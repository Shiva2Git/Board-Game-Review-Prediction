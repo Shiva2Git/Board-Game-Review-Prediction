{
  "nbformat": 4,
  "nbformat_minor": 0,
  "metadata": {
    "colab": {
      "provenance": []
    },
    "kernelspec": {
      "name": "python3",
      "display_name": "Python 3"
    },
    "language_info": {
      "name": "python"
    }
  },
  "cells": [
    {
      "cell_type": "code",
      "execution_count": null,
      "metadata": {
        "id": "Jw7CAWtR3tKz"
      },
      "outputs": [],
      "source": [
        "import numpy as np\n",
        "import pandas\n",
        "import matplotlib.pyplot as plt\n",
        "import seaborn as sns\n",
        "from sklearn.model_selection import train_test_split\n",
        "from sklearn.linear_model import LinearRegression\n",
        "\n",
        "games = pandas.read_csv(\"games.csv.txt\")"
      ]
    },
    {
      "cell_type": "code",
      "source": [
        "print(games.columns)\n",
        "print(games.shape)"
      ],
      "metadata": {
        "id": "S8lp8NJouCfs"
      },
      "execution_count": null,
      "outputs": []
    },
    {
      "cell_type": "code",
      "source": [
        "plt.hist(games[\"average_rating\"])\n",
        "plt.show()"
      ],
      "metadata": {
        "id": "kY7fEQ0ruWYm"
      },
      "execution_count": null,
      "outputs": []
    },
    {
      "cell_type": "code",
      "source": [
        "# games[games[\"average_rating\"] == 0]\n",
        "\n",
        "# Print the first row of all the games with zero scores.\n",
        "# The .iloc method on dataframes allows us to index by position.\n",
        "print(games[games[\"average_rating\"] == 0].iloc[0])\n",
        "# Print the first row of all the games with scores greater than 0.\n",
        "print(games[games[\"average_rating\"] > 0].iloc[0])"
      ],
      "metadata": {
        "id": "Wy0UnL9ouvg1"
      },
      "execution_count": null,
      "outputs": []
    },
    {
      "cell_type": "code",
      "source": [
        "# Remove any rows without user reviews.\n",
        "games = games[games[\"users_rated\"] > 0]\n",
        "# Remove any rows with missing values.\n",
        "games = games.dropna(axis=0)\n",
        "\n",
        "# Make a histogram of all the ratings in the average_rating column.\n",
        "plt.hist(games[\"average_rating\"])\n",
        "\n",
        "# Show the plot.\n",
        "plt.show()"
      ],
      "metadata": {
        "id": "fZYxC50iu-dw"
      },
      "execution_count": null,
      "outputs": []
    },
    {
      "cell_type": "code",
      "source": [
        "#correlation matrix\n",
        "corrmat = games.corr()\n",
        "fig = plt.figure(figsize = (12, 9))\n",
        "sns.heatmap(corrmat, vmax=.8, square=True);\n",
        "plt.show()"
      ],
      "metadata": {
        "id": "CYtc-UUDvKo1"
      },
      "execution_count": null,
      "outputs": []
    },
    {
      "cell_type": "code",
      "source": [
        "# Get all the columns from the dataframe.\n",
        "columns = games.columns.tolist()\n",
        "# Filter the columns to remove ones we don't want.\n",
        "columns = [c for c in columns if c not in [\"bayes_average_rating\", \"average_rating\", \"type\", \"name\", \"id\"]]\n",
        "\n",
        "# Store the variable we'll be predicting on.\n",
        "target = \"average_rating\""
      ],
      "metadata": {
        "id": "PAk7KJ5Hwhat"
      },
      "execution_count": null,
      "outputs": []
    },
    {
      "cell_type": "code",
      "source": [
        "# Import a convenience function to split the sets.\n",
        "!pip install sklearn\n",
        "from sklearn.cross_validation import train_test_split\n",
        "\n",
        "\n",
        "# Generate the training set.  Set random_state to be able to replicate results.\n",
        "train = games.sample(frac=0.8, random_state=1)\n",
        "# Select anything not in the training set and put it in the testing set.\n",
        "test = games.loc[~games.index.isin(train.index)]\n",
        "# Print the shapes of both sets.\n",
        "print(train.shape)\n",
        "print(test.shape)"
      ],
      "metadata": {
        "colab": {
          "base_uri": "https://localhost:8080/",
          "height": 408
        },
        "id": "ZTBEMw5Gwnv7",
        "outputId": "a1ee51cf-df4e-4eed-de06-73382beb85c9"
      },
      "execution_count": null,
      "outputs": [
        {
          "output_type": "stream",
          "name": "stdout",
          "text": [
            "Looking in indexes: https://pypi.org/simple, https://us-python.pkg.dev/colab-wheels/public/simple/\n",
            "Requirement already satisfied: sklearn in /usr/local/lib/python3.10/dist-packages (0.0.post5)\n"
          ]
        },
        {
          "output_type": "error",
          "ename": "ModuleNotFoundError",
          "evalue": "ignored",
          "traceback": [
            "\u001b[0;31m---------------------------------------------------------------------------\u001b[0m",
            "\u001b[0;31mModuleNotFoundError\u001b[0m                       Traceback (most recent call last)",
            "\u001b[0;32m<ipython-input-31-297012d0f09a>\u001b[0m in \u001b[0;36m<cell line: 3>\u001b[0;34m()\u001b[0m\n\u001b[1;32m      1\u001b[0m \u001b[0;31m# Import a convenience function to split the sets.\u001b[0m\u001b[0;34m\u001b[0m\u001b[0;34m\u001b[0m\u001b[0m\n\u001b[1;32m      2\u001b[0m \u001b[0mget_ipython\u001b[0m\u001b[0;34m(\u001b[0m\u001b[0;34m)\u001b[0m\u001b[0;34m.\u001b[0m\u001b[0msystem\u001b[0m\u001b[0;34m(\u001b[0m\u001b[0;34m'pip install sklearn'\u001b[0m\u001b[0;34m)\u001b[0m\u001b[0;34m\u001b[0m\u001b[0;34m\u001b[0m\u001b[0m\n\u001b[0;32m----> 3\u001b[0;31m \u001b[0;32mfrom\u001b[0m \u001b[0msklearn\u001b[0m\u001b[0;34m.\u001b[0m\u001b[0mcross_validation\u001b[0m \u001b[0;32mimport\u001b[0m \u001b[0mtrain_test_split\u001b[0m\u001b[0;34m\u001b[0m\u001b[0;34m\u001b[0m\u001b[0m\n\u001b[0m\u001b[1;32m      4\u001b[0m \u001b[0;34m\u001b[0m\u001b[0m\n\u001b[1;32m      5\u001b[0m \u001b[0;34m\u001b[0m\u001b[0m\n",
            "\u001b[0;31mModuleNotFoundError\u001b[0m: No module named 'sklearn.cross_validation'",
            "",
            "\u001b[0;31m---------------------------------------------------------------------------\u001b[0;32m\nNOTE: If your import is failing due to a missing package, you can\nmanually install dependencies using either !pip or !apt.\n\nTo view examples of installing some common dependencies, click the\n\"Open Examples\" button below.\n\u001b[0;31m---------------------------------------------------------------------------\u001b[0m\n"
          ],
          "errorDetails": {
            "actions": [
              {
                "action": "open_url",
                "actionText": "Open Examples",
                "url": "/notebooks/snippets/importing_libraries.ipynb"
              }
            ]
          }
        }
      ]
    }
  ]
}